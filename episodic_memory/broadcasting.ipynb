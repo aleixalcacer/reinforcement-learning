{
 "cells": [
  {
   "cell_type": "code",
   "execution_count": 1,
   "metadata": {
    "collapsed": true,
    "ExecuteTime": {
     "end_time": "2023-08-01T13:53:18.116725Z",
     "start_time": "2023-08-01T13:53:15.923789Z"
    }
   },
   "outputs": [],
   "source": [
    "import torch"
   ]
  },
  {
   "cell_type": "code",
   "execution_count": 3,
   "outputs": [],
   "source": [
    "a = torch.arange(9).reshape(3, 3)\n",
    "b = torch.arange(9).reshape(3, 3)"
   ],
   "metadata": {
    "collapsed": false,
    "ExecuteTime": {
     "end_time": "2023-08-01T13:53:37.945189Z",
     "start_time": "2023-08-01T13:53:37.940951Z"
    }
   }
  },
  {
   "cell_type": "code",
   "execution_count": 46,
   "outputs": [
    {
     "data": {
      "text/plain": "tensor([[[ 0,  0,  0],\n         [ 0,  3,  6],\n         [ 0,  6, 12]],\n\n        [[ 3,  4,  5],\n         [12, 16, 20],\n         [21, 28, 35]],\n\n        [[12, 14, 16],\n         [30, 35, 40],\n         [48, 56, 64]]])"
     },
     "execution_count": 46,
     "metadata": {},
     "output_type": "execute_result"
    }
   ],
   "source": [
    "c = torch.einsum('ij, jk->jik', a, b)\n",
    "c"
   ],
   "metadata": {
    "collapsed": false,
    "ExecuteTime": {
     "end_time": "2023-08-01T14:04:47.824455Z",
     "start_time": "2023-08-01T14:04:47.816285Z"
    }
   }
  },
  {
   "cell_type": "code",
   "execution_count": 26,
   "outputs": [
    {
     "data": {
      "text/plain": "tensor([[[ 0.,  0.,  0.],\n         [ 0.,  3.,  6.],\n         [ 0.,  6., 12.]],\n\n        [[ 3.,  4.,  5.],\n         [12., 16., 20.],\n         [21., 28., 35.]],\n\n        [[12., 14., 16.],\n         [30., 35., 40.],\n         [48., 56., 64.]]])"
     },
     "execution_count": 26,
     "metadata": {},
     "output_type": "execute_result"
    }
   ],
   "source": [
    "c  = torch.zeros(3, 3, 3)\n",
    "for i in range(3):\n",
    "    c[i, :, :] = a[:, None, i] * b[i, None, :]\n",
    "c"
   ],
   "metadata": {
    "collapsed": false,
    "ExecuteTime": {
     "end_time": "2023-08-01T14:00:15.966095Z",
     "start_time": "2023-08-01T14:00:15.959011Z"
    }
   }
  },
  {
   "cell_type": "code",
   "execution_count": null,
   "outputs": [],
   "source": [],
   "metadata": {
    "collapsed": false
   }
  }
 ],
 "metadata": {
  "kernelspec": {
   "display_name": "Python 3",
   "language": "python",
   "name": "python3"
  },
  "language_info": {
   "codemirror_mode": {
    "name": "ipython",
    "version": 2
   },
   "file_extension": ".py",
   "mimetype": "text/x-python",
   "name": "python",
   "nbconvert_exporter": "python",
   "pygments_lexer": "ipython2",
   "version": "2.7.6"
  }
 },
 "nbformat": 4,
 "nbformat_minor": 0
}
